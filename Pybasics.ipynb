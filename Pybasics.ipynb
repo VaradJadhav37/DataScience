{
 "cells": [
  {
   "cell_type": "code",
   "execution_count": 1,
   "id": "f99ff509-9cb0-4952-b080-f5e9021e9cc2",
   "metadata": {},
   "outputs": [
    {
     "name": "stdout",
     "output_type": "stream",
     "text": [
      "Hello World\n"
     ]
    }
   ],
   "source": [
    "print('Hello World')  "
   ]
  },
  {
   "cell_type": "markdown",
   "id": "2262a58a-36d9-43c5-8fd0-b0367fb54f43",
   "metadata": {},
   "source": [
    "#dictionary -- hashmap enclosed by {}\n",
    "#set -- hashset enclosed by {}\n",
    "#list -- array , arraylist\n",
    "#tuple -- imutable arrays / list enclosed with parenthesis"
   ]
  },
  {
   "cell_type": "code",
   "execution_count": 3,
   "id": "f170c520-555b-4725-96f3-4386732f6baa",
   "metadata": {},
   "outputs": [
    {
     "data": {
      "text/plain": [
       "[0, 1, 2, 3, 4, 5, 6, 7, 8, 9]"
      ]
     },
     "execution_count": 3,
     "metadata": {},
     "output_type": "execute_result"
    }
   ],
   "source": [
    "list(range(10))"
   ]
  },
  {
   "cell_type": "markdown",
   "id": "57834091-ccd8-429e-811e-47b64c0e48fe",
   "metadata": {},
   "source": [
    "List Comprehension"
   ]
  },
  {
   "cell_type": "code",
   "execution_count": 4,
   "id": "24f4772a-38e7-4739-a199-eab507f8c04d",
   "metadata": {},
   "outputs": [
    {
     "data": {
      "text/plain": [
       "[1, 4, 9, 16]"
      ]
     },
     "execution_count": 4,
     "metadata": {},
     "output_type": "execute_result"
    }
   ],
   "source": [
    "x=[1,2,3,4]\n",
    "[num**2 for num in x]"
   ]
  },
  {
   "cell_type": "code",
   "execution_count": 7,
   "id": "1f6be395-c607-44cb-a219-80b55cffdacf",
   "metadata": {},
   "outputs": [],
   "source": [
    "def times2(var):\n",
    "    return var*2"
   ]
  },
  {
   "cell_type": "code",
   "execution_count": 8,
   "id": "e449a354-83f8-4983-85b9-b50c271536f5",
   "metadata": {},
   "outputs": [
    {
     "data": {
      "text/plain": [
       "[2, 4, 6, 8]"
      ]
     },
     "execution_count": 8,
     "metadata": {},
     "output_type": "execute_result"
    }
   ],
   "source": [
    "list(map(times2,x))"
   ]
  },
  {
   "cell_type": "code",
   "execution_count": 9,
   "id": "8bcbbc20-2169-47b0-8cce-2e46b12e68bf",
   "metadata": {},
   "outputs": [
    {
     "data": {
      "text/plain": [
       "[2, 4, 6, 8]"
      ]
     },
     "execution_count": 9,
     "metadata": {},
     "output_type": "execute_result"
    }
   ],
   "source": [
    "list(map(lambda num: num*2,x))"
   ]
  },
  {
   "cell_type": "code",
   "execution_count": 10,
   "id": "bb28bb5b-10da-490b-8e2f-9077ed3ad9db",
   "metadata": {},
   "outputs": [
    {
     "data": {
      "text/plain": [
       "[2, 4]"
      ]
     },
     "execution_count": 10,
     "metadata": {},
     "output_type": "execute_result"
    }
   ],
   "source": [
    "list(filter(lambda num: num%2==0,x))"
   ]
  },
  {
   "cell_type": "code",
   "execution_count": 11,
   "id": "d654b022-1051-48c1-96d7-2e4ca3d39dce",
   "metadata": {},
   "outputs": [
    {
     "name": "stdout",
     "output_type": "stream",
     "text": [
      "Initialized empty Git repository in C:/Users/Varad/DataScience/.git/\n"
     ]
    }
   ],
   "source": [
    "!git init"
   ]
  },
  {
   "cell_type": "code",
   "execution_count": 17,
   "id": "d04da345-5f5d-4c67-a267-76dda747cc6b",
   "metadata": {},
   "outputs": [
    {
     "name": "stderr",
     "output_type": "stream",
     "text": [
      "warning: in the working copy of '.ipynb_checkpoints/Pybasics-checkpoint.ipynb', LF will be replaced by CRLF the next time Git touches it\n",
      "warning: in the working copy of 'Pybasics.ipynb', LF will be replaced by CRLF the next time Git touches it\n"
     ]
    },
    {
     "name": "stdout",
     "output_type": "stream",
     "text": [
      "[main de72a16] basics\n",
      " 2 files changed, 34 insertions(+), 4 deletions(-)\n",
      " rename .ipynb_checkpoints/{Untitled-checkpoint.ipynb => Pybasics-checkpoint.ipynb} (100%)\n",
      " rename Untitled.ipynb => Pybasics.ipynb (83%)\n"
     ]
    }
   ],
   "source": [
    "!git add .\n",
    "!git commit -m \"basics\""
   ]
  },
  {
   "cell_type": "code",
   "execution_count": 18,
   "id": "43f9d126-4580-4d07-8591-80bf17754d5e",
   "metadata": {},
   "outputs": [
    {
     "name": "stdout",
     "output_type": "stream",
     "text": [
      "branch 'main' set up to track 'origin/main'.\n"
     ]
    },
    {
     "name": "stderr",
     "output_type": "stream",
     "text": [
      "To https://github.com/VaradJadhav37/DataScience.git\n",
      "   d20572f..de72a16  main -> main\n"
     ]
    }
   ],
   "source": [
    "!git push -u origin main"
   ]
  },
  {
   "cell_type": "code",
   "execution_count": 6,
   "id": "99b44eab-a81b-4f1a-a69f-415d926c4e10",
   "metadata": {},
   "outputs": [],
   "source": [
    "import numpy as np\n",
    "from numpy.random import randn\n",
    "import pandas as pd"
   ]
  },
  {
   "cell_type": "code",
   "execution_count": 17,
   "id": "eb39ed5e-6b10-40f0-8761-f8bd1d87c20f",
   "metadata": {},
   "outputs": [],
   "source": [
    "df=pd.DataFrame(randn(5,4),index=['A','B','C','D','E'])"
   ]
  },
  {
   "cell_type": "code",
   "execution_count": 18,
   "id": "fd352a33-2518-4d41-888b-14ef47d5468a",
   "metadata": {},
   "outputs": [
    {
     "data": {
      "text/html": [
       "<div>\n",
       "<style scoped>\n",
       "    .dataframe tbody tr th:only-of-type {\n",
       "        vertical-align: middle;\n",
       "    }\n",
       "\n",
       "    .dataframe tbody tr th {\n",
       "        vertical-align: top;\n",
       "    }\n",
       "\n",
       "    .dataframe thead th {\n",
       "        text-align: right;\n",
       "    }\n",
       "</style>\n",
       "<table border=\"1\" class=\"dataframe\">\n",
       "  <thead>\n",
       "    <tr style=\"text-align: right;\">\n",
       "      <th></th>\n",
       "      <th>0</th>\n",
       "      <th>1</th>\n",
       "      <th>2</th>\n",
       "      <th>3</th>\n",
       "    </tr>\n",
       "  </thead>\n",
       "  <tbody>\n",
       "    <tr>\n",
       "      <th>E</th>\n",
       "      <td>-0.78839</td>\n",
       "      <td>-0.358428</td>\n",
       "      <td>1.721602</td>\n",
       "      <td>0.7445</td>\n",
       "    </tr>\n",
       "  </tbody>\n",
       "</table>\n",
       "</div>"
      ],
      "text/plain": [
       "         0         1         2       3\n",
       "E -0.78839 -0.358428  1.721602  0.7445"
      ]
     },
     "execution_count": 18,
     "metadata": {},
     "output_type": "execute_result"
    }
   ],
   "source": [
    "df[df[2]>1]"
   ]
  },
  {
   "cell_type": "code",
   "execution_count": 19,
   "id": "8556e796-d466-4d05-8ae3-3e7daf2c6d04",
   "metadata": {},
   "outputs": [
    {
     "data": {
      "text/html": [
       "<div>\n",
       "<style scoped>\n",
       "    .dataframe tbody tr th:only-of-type {\n",
       "        vertical-align: middle;\n",
       "    }\n",
       "\n",
       "    .dataframe tbody tr th {\n",
       "        vertical-align: top;\n",
       "    }\n",
       "\n",
       "    .dataframe thead th {\n",
       "        text-align: right;\n",
       "    }\n",
       "</style>\n",
       "<table border=\"1\" class=\"dataframe\">\n",
       "  <thead>\n",
       "    <tr style=\"text-align: right;\">\n",
       "      <th></th>\n",
       "      <th>index</th>\n",
       "      <th>0</th>\n",
       "      <th>1</th>\n",
       "      <th>2</th>\n",
       "      <th>3</th>\n",
       "    </tr>\n",
       "  </thead>\n",
       "  <tbody>\n",
       "    <tr>\n",
       "      <th>0</th>\n",
       "      <td>A</td>\n",
       "      <td>-0.663832</td>\n",
       "      <td>-0.109637</td>\n",
       "      <td>-0.548545</td>\n",
       "      <td>1.101527</td>\n",
       "    </tr>\n",
       "    <tr>\n",
       "      <th>1</th>\n",
       "      <td>B</td>\n",
       "      <td>1.296924</td>\n",
       "      <td>-0.579175</td>\n",
       "      <td>0.952435</td>\n",
       "      <td>-0.056906</td>\n",
       "    </tr>\n",
       "    <tr>\n",
       "      <th>2</th>\n",
       "      <td>C</td>\n",
       "      <td>0.564014</td>\n",
       "      <td>0.940062</td>\n",
       "      <td>-2.264104</td>\n",
       "      <td>0.542115</td>\n",
       "    </tr>\n",
       "    <tr>\n",
       "      <th>3</th>\n",
       "      <td>D</td>\n",
       "      <td>0.434520</td>\n",
       "      <td>0.303846</td>\n",
       "      <td>-0.520202</td>\n",
       "      <td>0.032313</td>\n",
       "    </tr>\n",
       "    <tr>\n",
       "      <th>4</th>\n",
       "      <td>E</td>\n",
       "      <td>-0.788390</td>\n",
       "      <td>-0.358428</td>\n",
       "      <td>1.721602</td>\n",
       "      <td>0.744500</td>\n",
       "    </tr>\n",
       "  </tbody>\n",
       "</table>\n",
       "</div>"
      ],
      "text/plain": [
       "  index         0         1         2         3\n",
       "0     A -0.663832 -0.109637 -0.548545  1.101527\n",
       "1     B  1.296924 -0.579175  0.952435 -0.056906\n",
       "2     C  0.564014  0.940062 -2.264104  0.542115\n",
       "3     D  0.434520  0.303846 -0.520202  0.032313\n",
       "4     E -0.788390 -0.358428  1.721602  0.744500"
      ]
     },
     "execution_count": 19,
     "metadata": {},
     "output_type": "execute_result"
    }
   ],
   "source": [
    "df.reset_index()"
   ]
  },
  {
   "cell_type": "code",
   "execution_count": 21,
   "id": "3f55cdf9-9698-49b1-b250-03081c980c82",
   "metadata": {},
   "outputs": [
    {
     "data": {
      "text/html": [
       "<div>\n",
       "<style scoped>\n",
       "    .dataframe tbody tr th:only-of-type {\n",
       "        vertical-align: middle;\n",
       "    }\n",
       "\n",
       "    .dataframe tbody tr th {\n",
       "        vertical-align: top;\n",
       "    }\n",
       "\n",
       "    .dataframe thead th {\n",
       "        text-align: right;\n",
       "    }\n",
       "</style>\n",
       "<table border=\"1\" class=\"dataframe\">\n",
       "  <thead>\n",
       "    <tr style=\"text-align: right;\">\n",
       "      <th></th>\n",
       "      <th></th>\n",
       "      <th>A</th>\n",
       "      <th>B</th>\n",
       "      <th>C</th>\n",
       "      <th>D</th>\n",
       "    </tr>\n",
       "  </thead>\n",
       "  <tbody>\n",
       "    <tr>\n",
       "      <th rowspan=\"3\" valign=\"top\">G1</th>\n",
       "      <th>1</th>\n",
       "      <td>0.374647</td>\n",
       "      <td>0.511150</td>\n",
       "      <td>0.463815</td>\n",
       "      <td>-0.636036</td>\n",
       "    </tr>\n",
       "    <tr>\n",
       "      <th>2</th>\n",
       "      <td>1.226019</td>\n",
       "      <td>0.943394</td>\n",
       "      <td>0.558185</td>\n",
       "      <td>-1.897424</td>\n",
       "    </tr>\n",
       "    <tr>\n",
       "      <th>3</th>\n",
       "      <td>-0.074996</td>\n",
       "      <td>-0.783135</td>\n",
       "      <td>-0.959960</td>\n",
       "      <td>-0.770605</td>\n",
       "    </tr>\n",
       "    <tr>\n",
       "      <th rowspan=\"3\" valign=\"top\">G2</th>\n",
       "      <th>1</th>\n",
       "      <td>-0.031566</td>\n",
       "      <td>-0.398333</td>\n",
       "      <td>-1.211213</td>\n",
       "      <td>-1.260981</td>\n",
       "    </tr>\n",
       "    <tr>\n",
       "      <th>2</th>\n",
       "      <td>1.623979</td>\n",
       "      <td>-1.860519</td>\n",
       "      <td>-0.800435</td>\n",
       "      <td>-1.118793</td>\n",
       "    </tr>\n",
       "    <tr>\n",
       "      <th>3</th>\n",
       "      <td>-0.080659</td>\n",
       "      <td>0.668731</td>\n",
       "      <td>-1.553909</td>\n",
       "      <td>-1.610396</td>\n",
       "    </tr>\n",
       "  </tbody>\n",
       "</table>\n",
       "</div>"
      ],
      "text/plain": [
       "             A         B         C         D\n",
       "G1 1  0.374647  0.511150  0.463815 -0.636036\n",
       "   2  1.226019  0.943394  0.558185 -1.897424\n",
       "   3 -0.074996 -0.783135 -0.959960 -0.770605\n",
       "G2 1 -0.031566 -0.398333 -1.211213 -1.260981\n",
       "   2  1.623979 -1.860519 -0.800435 -1.118793\n",
       "   3 -0.080659  0.668731 -1.553909 -1.610396"
      ]
     },
     "execution_count": 21,
     "metadata": {},
     "output_type": "execute_result"
    }
   ],
   "source": [
    "outside = ['G1', 'G1', 'G1', 'G2', 'G2', 'G2']\n",
    "inside = [1, 2, 3, 1, 2, 3]\n",
    "\n",
    "# Create a MultiIndex\n",
    "hier_index = list(zip(outside, inside))\n",
    "hier_index = pd.MultiIndex.from_tuples(hier_index)\n",
    "\n",
    "# Create DataFrame\n",
    "df = pd.DataFrame(np.random.randn(6, 4), index=hier_index, columns=['A', 'B', 'C', 'D'])\n",
    "\n",
    "# Set names for index levels\n",
    "df"
   ]
  },
  {
   "cell_type": "code",
   "execution_count": 24,
   "id": "ca3df324-b308-402d-9e9d-90c2b4def80e",
   "metadata": {},
   "outputs": [
    {
     "data": {
      "text/plain": [
       "A    0.374647\n",
       "B    0.511150\n",
       "C    0.463815\n",
       "D   -0.636036\n",
       "Name: 1, dtype: float64"
      ]
     },
     "execution_count": 24,
     "metadata": {},
     "output_type": "execute_result"
    }
   ],
   "source": [
    "df.loc['G1'].loc[1]"
   ]
  },
  {
   "cell_type": "code",
   "execution_count": 26,
   "id": "d5bd8fd6-8d62-4267-84ed-42ecc0960a82",
   "metadata": {},
   "outputs": [
    {
     "name": "stdout",
     "output_type": "stream",
     "text": [
      "Original DataFrame:\n",
      "     A    B   C\n",
      "0  1.0  5.0   9\n",
      "1  2.0  NaN  10\n",
      "2  NaN  NaN  11\n",
      "3  4.0  8.0  12\n",
      "\n",
      "DataFrame after dropping rows with any NaN values:\n",
      "     A    B   C\n",
      "0  1.0  5.0   9\n",
      "3  4.0  8.0  12\n",
      "\n",
      "DataFrame after dropping columns with any NaN values:\n",
      "    C\n",
      "0   9\n",
      "1  10\n",
      "2  11\n",
      "3  12\n",
      "\n",
      "DataFrame after filling NaNs with 0:\n",
      "          A         B   C\n",
      "0       1.0       5.0   9\n",
      "1       2.0  Fill_Val  10\n",
      "2  Fill_Val  Fill_Val  11\n",
      "3       4.0       8.0  12\n",
      "\n",
      "DataFrame after filling NaNs with column means:\n",
      "          A    B   C\n",
      "0  1.000000  5.0   9\n",
      "1  2.000000  6.5  10\n",
      "2  2.333333  6.5  11\n",
      "3  4.000000  8.0  12\n"
     ]
    }
   ],
   "source": [
    "\n",
    "# Step 1: Create a DataFrame with NaN values\n",
    "data = {\n",
    "    'A': [1, 2, np.nan, 4],\n",
    "    'B': [5, np.nan, np.nan, 8],\n",
    "    'C': [9, 10, 11, 12]\n",
    "}\n",
    "\n",
    "df = pd.DataFrame(data)\n",
    "print(\"Original DataFrame:\")\n",
    "print(df)\n",
    "\n",
    "# Step 2: Drop rows with any NaN values\n",
    "df_drop_rows = df.dropna()\n",
    "print(\"\\nDataFrame after dropping rows with any NaN values:\")\n",
    "print(df_drop_rows)\n",
    "\n",
    "# Step 3: Drop columns with any NaN values\n",
    "df_drop_cols = df.dropna(axis=1)\n",
    "print(\"\\nDataFrame after dropping columns with any NaN values:\")\n",
    "print(df_drop_cols)\n",
    "\n",
    "# Step 4: Fill NaN values with a constant (e.g., 0)\n",
    "df_fill_zero = df.fillna(\"Fill_Val\")\n",
    "print(\"\\nDataFrame after filling NaNs with 0:\")\n",
    "print(df_fill_zero)\n",
    "\n",
    "# Step 5: Fill NaN values with the column mean\n",
    "df_fill_mean = df.fillna(df.mean(numeric_only=True))\n",
    "print(\"\\nDataFrame after filling NaNs with column means:\")\n",
    "print(df_fill_mean)"
   ]
  },
  {
   "cell_type": "code",
   "execution_count": 30,
   "id": "2048426e-26d9-4716-8e36-2241aa2542b5",
   "metadata": {},
   "outputs": [
    {
     "name": "stdout",
     "output_type": "stream",
     "text": [
      "Original DataFrame:\n",
      "  Department Employee  Salary  Bonus\n",
      "0      Sales    Alice   50000   5000\n",
      "1      Sales      Bob   55000   6000\n",
      "2         HR  Charlie   60000   4000\n",
      "3         HR    David   58000   4200\n",
      "4         IT      Eva   70000   8000\n",
      "5         IT    Frank   72000   8500\n",
      "\n",
      "Average Salary and Bonus by Department:\n",
      "             Salary   Bonus\n",
      "Department                 \n",
      "HR          59000.0  4100.0\n",
      "IT          71000.0  8250.0\n",
      "Sales       52500.0  5500.0\n"
     ]
    }
   ],
   "source": [
    "# Step 1: Create a DataFrame\n",
    "data = {\n",
    "    'Department': ['Sales', 'Sales', 'HR', 'HR', 'IT', 'IT'],\n",
    "    'Employee': ['Alice', 'Bob', 'Charlie', 'David', 'Eva', 'Frank'],\n",
    "    'Salary': [50000, 55000, 60000, 58000, 70000, 72000],\n",
    "    'Bonus': [5000, 6000, 4000, 4200, 8000, 8500]\n",
    "}\n",
    "\n",
    "df = pd.DataFrame(data)\n",
    "\n",
    "print(\"Original DataFrame:\")\n",
    "print(df)\n",
    "\n",
    "# Step 2: Group by Department and calculate average Salary and Bonus\n",
    "grouped = df.groupby('Department')[['Salary', 'Bonus']].mean()\n",
    "\n",
    "print(\"\\nAverage Salary and Bonus by Department:\")\n",
    "print(grouped)\n"
   ]
  },
  {
   "cell_type": "code",
   "execution_count": 32,
   "id": "7eaf6efd-20ff-441c-a438-d891e9847008",
   "metadata": {},
   "outputs": [
    {
     "data": {
      "text/html": [
       "<div>\n",
       "<style scoped>\n",
       "    .dataframe tbody tr th:only-of-type {\n",
       "        vertical-align: middle;\n",
       "    }\n",
       "\n",
       "    .dataframe tbody tr th {\n",
       "        vertical-align: top;\n",
       "    }\n",
       "\n",
       "    .dataframe thead tr th {\n",
       "        text-align: left;\n",
       "    }\n",
       "\n",
       "    .dataframe thead tr:last-of-type th {\n",
       "        text-align: right;\n",
       "    }\n",
       "</style>\n",
       "<table border=\"1\" class=\"dataframe\">\n",
       "  <thead>\n",
       "    <tr>\n",
       "      <th></th>\n",
       "      <th colspan=\"8\" halign=\"left\">Salary</th>\n",
       "      <th colspan=\"8\" halign=\"left\">Bonus</th>\n",
       "    </tr>\n",
       "    <tr>\n",
       "      <th></th>\n",
       "      <th>count</th>\n",
       "      <th>mean</th>\n",
       "      <th>std</th>\n",
       "      <th>min</th>\n",
       "      <th>25%</th>\n",
       "      <th>50%</th>\n",
       "      <th>75%</th>\n",
       "      <th>max</th>\n",
       "      <th>count</th>\n",
       "      <th>mean</th>\n",
       "      <th>std</th>\n",
       "      <th>min</th>\n",
       "      <th>25%</th>\n",
       "      <th>50%</th>\n",
       "      <th>75%</th>\n",
       "      <th>max</th>\n",
       "    </tr>\n",
       "    <tr>\n",
       "      <th>Department</th>\n",
       "      <th></th>\n",
       "      <th></th>\n",
       "      <th></th>\n",
       "      <th></th>\n",
       "      <th></th>\n",
       "      <th></th>\n",
       "      <th></th>\n",
       "      <th></th>\n",
       "      <th></th>\n",
       "      <th></th>\n",
       "      <th></th>\n",
       "      <th></th>\n",
       "      <th></th>\n",
       "      <th></th>\n",
       "      <th></th>\n",
       "      <th></th>\n",
       "    </tr>\n",
       "  </thead>\n",
       "  <tbody>\n",
       "    <tr>\n",
       "      <th>HR</th>\n",
       "      <td>2.0</td>\n",
       "      <td>59000.0</td>\n",
       "      <td>1414.213562</td>\n",
       "      <td>58000.0</td>\n",
       "      <td>58500.0</td>\n",
       "      <td>59000.0</td>\n",
       "      <td>59500.0</td>\n",
       "      <td>60000.0</td>\n",
       "      <td>2.0</td>\n",
       "      <td>4100.0</td>\n",
       "      <td>141.421356</td>\n",
       "      <td>4000.0</td>\n",
       "      <td>4050.0</td>\n",
       "      <td>4100.0</td>\n",
       "      <td>4150.0</td>\n",
       "      <td>4200.0</td>\n",
       "    </tr>\n",
       "    <tr>\n",
       "      <th>IT</th>\n",
       "      <td>2.0</td>\n",
       "      <td>71000.0</td>\n",
       "      <td>1414.213562</td>\n",
       "      <td>70000.0</td>\n",
       "      <td>70500.0</td>\n",
       "      <td>71000.0</td>\n",
       "      <td>71500.0</td>\n",
       "      <td>72000.0</td>\n",
       "      <td>2.0</td>\n",
       "      <td>8250.0</td>\n",
       "      <td>353.553391</td>\n",
       "      <td>8000.0</td>\n",
       "      <td>8125.0</td>\n",
       "      <td>8250.0</td>\n",
       "      <td>8375.0</td>\n",
       "      <td>8500.0</td>\n",
       "    </tr>\n",
       "    <tr>\n",
       "      <th>Sales</th>\n",
       "      <td>2.0</td>\n",
       "      <td>52500.0</td>\n",
       "      <td>3535.533906</td>\n",
       "      <td>50000.0</td>\n",
       "      <td>51250.0</td>\n",
       "      <td>52500.0</td>\n",
       "      <td>53750.0</td>\n",
       "      <td>55000.0</td>\n",
       "      <td>2.0</td>\n",
       "      <td>5500.0</td>\n",
       "      <td>707.106781</td>\n",
       "      <td>5000.0</td>\n",
       "      <td>5250.0</td>\n",
       "      <td>5500.0</td>\n",
       "      <td>5750.0</td>\n",
       "      <td>6000.0</td>\n",
       "    </tr>\n",
       "  </tbody>\n",
       "</table>\n",
       "</div>"
      ],
      "text/plain": [
       "           Salary                                                            \\\n",
       "            count     mean          std      min      25%      50%      75%   \n",
       "Department                                                                    \n",
       "HR            2.0  59000.0  1414.213562  58000.0  58500.0  59000.0  59500.0   \n",
       "IT            2.0  71000.0  1414.213562  70000.0  70500.0  71000.0  71500.0   \n",
       "Sales         2.0  52500.0  3535.533906  50000.0  51250.0  52500.0  53750.0   \n",
       "\n",
       "                    Bonus                                                      \\\n",
       "                max count    mean         std     min     25%     50%     75%   \n",
       "Department                                                                      \n",
       "HR          60000.0   2.0  4100.0  141.421356  4000.0  4050.0  4100.0  4150.0   \n",
       "IT          72000.0   2.0  8250.0  353.553391  8000.0  8125.0  8250.0  8375.0   \n",
       "Sales       55000.0   2.0  5500.0  707.106781  5000.0  5250.0  5500.0  5750.0   \n",
       "\n",
       "                    \n",
       "               max  \n",
       "Department          \n",
       "HR          4200.0  \n",
       "IT          8500.0  \n",
       "Sales       6000.0  "
      ]
     },
     "execution_count": 32,
     "metadata": {},
     "output_type": "execute_result"
    }
   ],
   "source": [
    "df.groupby('Department').describe()"
   ]
  },
  {
   "cell_type": "code",
   "execution_count": null,
   "id": "7e8f5f62-eaa2-4527-82e2-2e6fb4bee103",
   "metadata": {},
   "outputs": [],
   "source": []
  }
 ],
 "metadata": {
  "kernelspec": {
   "display_name": "Python [conda env:base] *",
   "language": "python",
   "name": "conda-base-py"
  },
  "language_info": {
   "codemirror_mode": {
    "name": "ipython",
    "version": 3
   },
   "file_extension": ".py",
   "mimetype": "text/x-python",
   "name": "python",
   "nbconvert_exporter": "python",
   "pygments_lexer": "ipython3",
   "version": "3.11.11"
  }
 },
 "nbformat": 4,
 "nbformat_minor": 5
}
